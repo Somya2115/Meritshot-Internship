{
 "cells": [
  {
   "cell_type": "code",
   "execution_count": 1,
   "id": "637f8b13",
   "metadata": {},
   "outputs": [
    {
     "name": "stderr",
     "output_type": "stream",
     "text": [
      "C:\\Users\\rnbja\\AppData\\Roaming\\Python\\Python39\\site-packages\\scipy\\__init__.py:146: UserWarning: A NumPy version >=1.16.5 and <1.23.0 is required for this version of SciPy (detected version 1.26.4\n",
      "  warnings.warn(f\"A NumPy version >={np_minversion} and <{np_maxversion}\"\n"
     ]
    },
    {
     "data": {
      "text/html": [
       "<div>\n",
       "<style scoped>\n",
       "    .dataframe tbody tr th:only-of-type {\n",
       "        vertical-align: middle;\n",
       "    }\n",
       "\n",
       "    .dataframe tbody tr th {\n",
       "        vertical-align: top;\n",
       "    }\n",
       "\n",
       "    .dataframe thead th {\n",
       "        text-align: right;\n",
       "    }\n",
       "</style>\n",
       "<table border=\"1\" class=\"dataframe\">\n",
       "  <thead>\n",
       "    <tr style=\"text-align: right;\">\n",
       "      <th></th>\n",
       "      <th>Name</th>\n",
       "      <th>Age</th>\n",
       "      <th>Gender</th>\n",
       "      <th>Projects Completed</th>\n",
       "      <th>Productivity (%)</th>\n",
       "      <th>Satisfaction Rate (%)</th>\n",
       "      <th>Feedback Score</th>\n",
       "      <th>Department</th>\n",
       "      <th>Position</th>\n",
       "      <th>Joining Date</th>\n",
       "      <th>Salary</th>\n",
       "    </tr>\n",
       "  </thead>\n",
       "  <tbody>\n",
       "    <tr>\n",
       "      <th>49</th>\n",
       "      <td>Cynthia Ochoa</td>\n",
       "      <td>40</td>\n",
       "      <td>Female</td>\n",
       "      <td>16</td>\n",
       "      <td>3</td>\n",
       "      <td>71</td>\n",
       "      <td>2.3</td>\n",
       "      <td>HR</td>\n",
       "      <td>Senior Developer</td>\n",
       "      <td>Jan-18</td>\n",
       "      <td>90439</td>\n",
       "    </tr>\n",
       "    <tr>\n",
       "      <th>130</th>\n",
       "      <td>Michael Perez</td>\n",
       "      <td>26</td>\n",
       "      <td>Male</td>\n",
       "      <td>5</td>\n",
       "      <td>57</td>\n",
       "      <td>49</td>\n",
       "      <td>4.1</td>\n",
       "      <td>IT</td>\n",
       "      <td>Intern</td>\n",
       "      <td>Jan-22</td>\n",
       "      <td>37357</td>\n",
       "    </tr>\n",
       "    <tr>\n",
       "      <th>30</th>\n",
       "      <td>Michelle Perez</td>\n",
       "      <td>29</td>\n",
       "      <td>Male</td>\n",
       "      <td>5</td>\n",
       "      <td>93</td>\n",
       "      <td>94</td>\n",
       "      <td>4.9</td>\n",
       "      <td>Marketing</td>\n",
       "      <td>Junior Developer</td>\n",
       "      <td>Jan-18</td>\n",
       "      <td>57478</td>\n",
       "    </tr>\n",
       "    <tr>\n",
       "      <th>70</th>\n",
       "      <td>Jordan Morales</td>\n",
       "      <td>36</td>\n",
       "      <td>Male</td>\n",
       "      <td>16</td>\n",
       "      <td>28</td>\n",
       "      <td>63</td>\n",
       "      <td>3.1</td>\n",
       "      <td>Marketing</td>\n",
       "      <td>Senior Developer</td>\n",
       "      <td>Jan-17</td>\n",
       "      <td>92954</td>\n",
       "    </tr>\n",
       "    <tr>\n",
       "      <th>73</th>\n",
       "      <td>Amy Garcia</td>\n",
       "      <td>34</td>\n",
       "      <td>Male</td>\n",
       "      <td>10</td>\n",
       "      <td>31</td>\n",
       "      <td>27</td>\n",
       "      <td>3.6</td>\n",
       "      <td>Marketing</td>\n",
       "      <td>Analyst</td>\n",
       "      <td>Jan-17</td>\n",
       "      <td>69347</td>\n",
       "    </tr>\n",
       "  </tbody>\n",
       "</table>\n",
       "</div>"
      ],
      "text/plain": [
       "               Name  Age  Gender  Projects Completed  Productivity (%)  \\\n",
       "49    Cynthia Ochoa   40  Female                  16                 3   \n",
       "130   Michael Perez   26    Male                   5                57   \n",
       "30   Michelle Perez   29    Male                   5                93   \n",
       "70   Jordan Morales   36    Male                  16                28   \n",
       "73       Amy Garcia   34    Male                  10                31   \n",
       "\n",
       "     Satisfaction Rate (%)  Feedback Score Department          Position  \\\n",
       "49                      71             2.3         HR  Senior Developer   \n",
       "130                     49             4.1         IT            Intern   \n",
       "30                      94             4.9  Marketing  Junior Developer   \n",
       "70                      63             3.1  Marketing  Senior Developer   \n",
       "73                      27             3.6  Marketing           Analyst   \n",
       "\n",
       "    Joining Date  Salary  \n",
       "49        Jan-18   90439  \n",
       "130       Jan-22   37357  \n",
       "30        Jan-18   57478  \n",
       "70        Jan-17   92954  \n",
       "73        Jan-17   69347  "
      ]
     },
     "execution_count": 1,
     "metadata": {},
     "output_type": "execute_result"
    }
   ],
   "source": [
    "import numpy as np\n",
    "import pandas as pd\n",
    "import matplotlib.pyplot as plt\n",
    "import seaborn as sns\n",
    "df=pd.read_csv('3. hr_dashboard_data.csv')\n",
    "df.sample(5)"
   ]
  },
  {
   "cell_type": "markdown",
   "id": "61182a5e",
   "metadata": {},
   "source": [
    "# Data Preprocessing"
   ]
  },
  {
   "cell_type": "code",
   "execution_count": 2,
   "id": "83d44b6c",
   "metadata": {},
   "outputs": [
    {
     "data": {
      "text/plain": [
       "Name                     0\n",
       "Age                      0\n",
       "Gender                   0\n",
       "Projects Completed       0\n",
       "Productivity (%)         0\n",
       "Satisfaction Rate (%)    0\n",
       "Feedback Score           0\n",
       "Department               0\n",
       "Position                 0\n",
       "Joining Date             0\n",
       "Salary                   0\n",
       "dtype: int64"
      ]
     },
     "execution_count": 2,
     "metadata": {},
     "output_type": "execute_result"
    }
   ],
   "source": [
    "df.isnull().sum()"
   ]
  },
  {
   "cell_type": "markdown",
   "id": "ec24af96",
   "metadata": {},
   "source": [
    "No missing values found"
   ]
  },
  {
   "cell_type": "code",
   "execution_count": 3,
   "id": "93700719",
   "metadata": {},
   "outputs": [
    {
     "name": "stdout",
     "output_type": "stream",
     "text": [
      "<class 'pandas.core.frame.DataFrame'>\n",
      "RangeIndex: 200 entries, 0 to 199\n",
      "Data columns (total 11 columns):\n",
      " #   Column                 Non-Null Count  Dtype  \n",
      "---  ------                 --------------  -----  \n",
      " 0   Name                   200 non-null    object \n",
      " 1   Age                    200 non-null    int64  \n",
      " 2   Gender                 200 non-null    object \n",
      " 3   Projects Completed     200 non-null    int64  \n",
      " 4   Productivity (%)       200 non-null    int64  \n",
      " 5   Satisfaction Rate (%)  200 non-null    int64  \n",
      " 6   Feedback Score         200 non-null    float64\n",
      " 7   Department             200 non-null    object \n",
      " 8   Position               200 non-null    object \n",
      " 9   Joining Date           200 non-null    object \n",
      " 10  Salary                 200 non-null    int64  \n",
      "dtypes: float64(1), int64(5), object(5)\n",
      "memory usage: 17.3+ KB\n"
     ]
    }
   ],
   "source": [
    "df.info()"
   ]
  },
  {
   "cell_type": "code",
   "execution_count": 4,
   "id": "b0256a1c",
   "metadata": {},
   "outputs": [],
   "source": [
    "df['Joining Date']=pd.to_datetime(df['Joining Date'],errors='ignore')#data type converted"
   ]
  },
  {
   "cell_type": "code",
   "execution_count": 5,
   "id": "a4127811",
   "metadata": {},
   "outputs": [
    {
     "name": "stdout",
     "output_type": "stream",
     "text": [
      "['Jan-20' 'Jan-99' 'Jan-17' 'Jan-22' 'Jan-05' 'Jan-21' 'Jan-18' 'Jan-19'\n",
      " 'Jan-04' 'Jan-13' 'Jan-07' 'Jan-11' 'Jan-12' 'Jan-08' 'Jan-06' 'Jan-01'\n",
      " 'Jan-14' 'Jan-16' 'Jan-10' 'Jan-09' 'Jan-03' 'Jan-15' 'Jan-98' 'Jan-00'\n",
      " 'Jan-02']\n"
     ]
    }
   ],
   "source": [
    "print(df['Joining Date'].unique())"
   ]
  },
  {
   "cell_type": "code",
   "execution_count": 6,
   "id": "97d2d388",
   "metadata": {},
   "outputs": [
    {
     "data": {
      "text/html": [
       "<div>\n",
       "<style scoped>\n",
       "    .dataframe tbody tr th:only-of-type {\n",
       "        vertical-align: middle;\n",
       "    }\n",
       "\n",
       "    .dataframe tbody tr th {\n",
       "        vertical-align: top;\n",
       "    }\n",
       "\n",
       "    .dataframe thead th {\n",
       "        text-align: right;\n",
       "    }\n",
       "</style>\n",
       "<table border=\"1\" class=\"dataframe\">\n",
       "  <thead>\n",
       "    <tr style=\"text-align: right;\">\n",
       "      <th></th>\n",
       "      <th>Name</th>\n",
       "      <th>Age</th>\n",
       "      <th>Gender</th>\n",
       "      <th>Projects Completed</th>\n",
       "      <th>Productivity (%)</th>\n",
       "      <th>Satisfaction Rate (%)</th>\n",
       "      <th>Feedback Score</th>\n",
       "      <th>Department</th>\n",
       "      <th>Position</th>\n",
       "      <th>Joining Date</th>\n",
       "      <th>Salary</th>\n",
       "    </tr>\n",
       "  </thead>\n",
       "  <tbody>\n",
       "    <tr>\n",
       "      <th>72</th>\n",
       "      <td>Thomas Baxter</td>\n",
       "      <td>25</td>\n",
       "      <td>Male</td>\n",
       "      <td>9</td>\n",
       "      <td>65</td>\n",
       "      <td>79</td>\n",
       "      <td>1.5</td>\n",
       "      <td>Finance</td>\n",
       "      <td>Junior Developer</td>\n",
       "      <td>Jan-19</td>\n",
       "      <td>49120</td>\n",
       "    </tr>\n",
       "    <tr>\n",
       "      <th>135</th>\n",
       "      <td>Alyssa Montoya</td>\n",
       "      <td>33</td>\n",
       "      <td>Female</td>\n",
       "      <td>14</td>\n",
       "      <td>55</td>\n",
       "      <td>26</td>\n",
       "      <td>4.8</td>\n",
       "      <td>Sales</td>\n",
       "      <td>Analyst</td>\n",
       "      <td>Jan-18</td>\n",
       "      <td>73623</td>\n",
       "    </tr>\n",
       "    <tr>\n",
       "      <th>70</th>\n",
       "      <td>Jordan Morales</td>\n",
       "      <td>36</td>\n",
       "      <td>Male</td>\n",
       "      <td>16</td>\n",
       "      <td>28</td>\n",
       "      <td>63</td>\n",
       "      <td>3.1</td>\n",
       "      <td>Marketing</td>\n",
       "      <td>Senior Developer</td>\n",
       "      <td>Jan-17</td>\n",
       "      <td>92954</td>\n",
       "    </tr>\n",
       "    <tr>\n",
       "      <th>35</th>\n",
       "      <td>Robin Hurst</td>\n",
       "      <td>34</td>\n",
       "      <td>Male</td>\n",
       "      <td>9</td>\n",
       "      <td>47</td>\n",
       "      <td>56</td>\n",
       "      <td>4.1</td>\n",
       "      <td>Marketing</td>\n",
       "      <td>Analyst</td>\n",
       "      <td>Jan-19</td>\n",
       "      <td>71558</td>\n",
       "    </tr>\n",
       "    <tr>\n",
       "      <th>63</th>\n",
       "      <td>Janet Campbell</td>\n",
       "      <td>58</td>\n",
       "      <td>Female</td>\n",
       "      <td>20</td>\n",
       "      <td>68</td>\n",
       "      <td>63</td>\n",
       "      <td>1.4</td>\n",
       "      <td>Finance</td>\n",
       "      <td>Manager</td>\n",
       "      <td>Jan-10</td>\n",
       "      <td>108449</td>\n",
       "    </tr>\n",
       "    <tr>\n",
       "      <th>11</th>\n",
       "      <td>Joshua Nelson</td>\n",
       "      <td>42</td>\n",
       "      <td>Female</td>\n",
       "      <td>19</td>\n",
       "      <td>9</td>\n",
       "      <td>31</td>\n",
       "      <td>2.5</td>\n",
       "      <td>Sales</td>\n",
       "      <td>Team Lead</td>\n",
       "      <td>Jan-07</td>\n",
       "      <td>95072</td>\n",
       "    </tr>\n",
       "    <tr>\n",
       "      <th>17</th>\n",
       "      <td>James Hernandez</td>\n",
       "      <td>41</td>\n",
       "      <td>Female</td>\n",
       "      <td>13</td>\n",
       "      <td>44</td>\n",
       "      <td>36</td>\n",
       "      <td>3.9</td>\n",
       "      <td>Marketing</td>\n",
       "      <td>Team Lead</td>\n",
       "      <td>Jan-11</td>\n",
       "      <td>92074</td>\n",
       "    </tr>\n",
       "  </tbody>\n",
       "</table>\n",
       "</div>"
      ],
      "text/plain": [
       "                Name  Age  Gender  Projects Completed  Productivity (%)  \\\n",
       "72     Thomas Baxter   25    Male                   9                65   \n",
       "135   Alyssa Montoya   33  Female                  14                55   \n",
       "70    Jordan Morales   36    Male                  16                28   \n",
       "35       Robin Hurst   34    Male                   9                47   \n",
       "63    Janet Campbell   58  Female                  20                68   \n",
       "11     Joshua Nelson   42  Female                  19                 9   \n",
       "17   James Hernandez   41  Female                  13                44   \n",
       "\n",
       "     Satisfaction Rate (%)  Feedback Score Department          Position  \\\n",
       "72                      79             1.5    Finance  Junior Developer   \n",
       "135                     26             4.8      Sales           Analyst   \n",
       "70                      63             3.1  Marketing  Senior Developer   \n",
       "35                      56             4.1  Marketing           Analyst   \n",
       "63                      63             1.4    Finance           Manager   \n",
       "11                      31             2.5      Sales         Team Lead   \n",
       "17                      36             3.9  Marketing         Team Lead   \n",
       "\n",
       "    Joining Date  Salary  \n",
       "72        Jan-19   49120  \n",
       "135       Jan-18   73623  \n",
       "70        Jan-17   92954  \n",
       "35        Jan-19   71558  \n",
       "63        Jan-10  108449  \n",
       "11        Jan-07   95072  \n",
       "17        Jan-11   92074  "
      ]
     },
     "execution_count": 6,
     "metadata": {},
     "output_type": "execute_result"
    }
   ],
   "source": [
    "df.sample(7)"
   ]
  },
  {
   "cell_type": "code",
   "execution_count": null,
   "id": "904db740",
   "metadata": {},
   "outputs": [],
   "source": []
  },
  {
   "cell_type": "code",
   "execution_count": 7,
   "id": "4e852c9f",
   "metadata": {},
   "outputs": [
    {
     "data": {
      "text/html": [
       "<div>\n",
       "<style scoped>\n",
       "    .dataframe tbody tr th:only-of-type {\n",
       "        vertical-align: middle;\n",
       "    }\n",
       "\n",
       "    .dataframe tbody tr th {\n",
       "        vertical-align: top;\n",
       "    }\n",
       "\n",
       "    .dataframe thead th {\n",
       "        text-align: right;\n",
       "    }\n",
       "</style>\n",
       "<table border=\"1\" class=\"dataframe\">\n",
       "  <thead>\n",
       "    <tr style=\"text-align: right;\">\n",
       "      <th></th>\n",
       "      <th>Age</th>\n",
       "      <th>Projects Completed</th>\n",
       "      <th>Productivity (%)</th>\n",
       "      <th>Satisfaction Rate (%)</th>\n",
       "      <th>Feedback Score</th>\n",
       "      <th>Salary</th>\n",
       "    </tr>\n",
       "  </thead>\n",
       "  <tbody>\n",
       "    <tr>\n",
       "      <th>count</th>\n",
       "      <td>200.000000</td>\n",
       "      <td>200.000000</td>\n",
       "      <td>200.000000</td>\n",
       "      <td>200.000000</td>\n",
       "      <td>200.000000</td>\n",
       "      <td>200.000000</td>\n",
       "    </tr>\n",
       "    <tr>\n",
       "      <th>mean</th>\n",
       "      <td>34.650000</td>\n",
       "      <td>11.455000</td>\n",
       "      <td>46.755000</td>\n",
       "      <td>49.935000</td>\n",
       "      <td>2.883000</td>\n",
       "      <td>76619.245000</td>\n",
       "    </tr>\n",
       "    <tr>\n",
       "      <th>std</th>\n",
       "      <td>9.797318</td>\n",
       "      <td>6.408849</td>\n",
       "      <td>28.530068</td>\n",
       "      <td>28.934353</td>\n",
       "      <td>1.123263</td>\n",
       "      <td>27082.299202</td>\n",
       "    </tr>\n",
       "    <tr>\n",
       "      <th>min</th>\n",
       "      <td>22.000000</td>\n",
       "      <td>0.000000</td>\n",
       "      <td>0.000000</td>\n",
       "      <td>0.000000</td>\n",
       "      <td>1.000000</td>\n",
       "      <td>30231.000000</td>\n",
       "    </tr>\n",
       "    <tr>\n",
       "      <th>25%</th>\n",
       "      <td>26.000000</td>\n",
       "      <td>6.000000</td>\n",
       "      <td>23.000000</td>\n",
       "      <td>25.750000</td>\n",
       "      <td>1.900000</td>\n",
       "      <td>53080.500000</td>\n",
       "    </tr>\n",
       "    <tr>\n",
       "      <th>50%</th>\n",
       "      <td>32.000000</td>\n",
       "      <td>11.000000</td>\n",
       "      <td>45.000000</td>\n",
       "      <td>50.500000</td>\n",
       "      <td>2.800000</td>\n",
       "      <td>80540.000000</td>\n",
       "    </tr>\n",
       "    <tr>\n",
       "      <th>75%</th>\n",
       "      <td>41.000000</td>\n",
       "      <td>17.000000</td>\n",
       "      <td>70.000000</td>\n",
       "      <td>75.250000</td>\n",
       "      <td>3.900000</td>\n",
       "      <td>101108.250000</td>\n",
       "    </tr>\n",
       "    <tr>\n",
       "      <th>max</th>\n",
       "      <td>60.000000</td>\n",
       "      <td>25.000000</td>\n",
       "      <td>98.000000</td>\n",
       "      <td>100.000000</td>\n",
       "      <td>4.900000</td>\n",
       "      <td>119895.000000</td>\n",
       "    </tr>\n",
       "  </tbody>\n",
       "</table>\n",
       "</div>"
      ],
      "text/plain": [
       "              Age  Projects Completed  Productivity (%)  \\\n",
       "count  200.000000          200.000000        200.000000   \n",
       "mean    34.650000           11.455000         46.755000   \n",
       "std      9.797318            6.408849         28.530068   \n",
       "min     22.000000            0.000000          0.000000   \n",
       "25%     26.000000            6.000000         23.000000   \n",
       "50%     32.000000           11.000000         45.000000   \n",
       "75%     41.000000           17.000000         70.000000   \n",
       "max     60.000000           25.000000         98.000000   \n",
       "\n",
       "       Satisfaction Rate (%)  Feedback Score         Salary  \n",
       "count             200.000000      200.000000     200.000000  \n",
       "mean               49.935000        2.883000   76619.245000  \n",
       "std                28.934353        1.123263   27082.299202  \n",
       "min                 0.000000        1.000000   30231.000000  \n",
       "25%                25.750000        1.900000   53080.500000  \n",
       "50%                50.500000        2.800000   80540.000000  \n",
       "75%                75.250000        3.900000  101108.250000  \n",
       "max               100.000000        4.900000  119895.000000  "
      ]
     },
     "execution_count": 7,
     "metadata": {},
     "output_type": "execute_result"
    }
   ],
   "source": [
    "df.describe()"
   ]
  },
  {
   "cell_type": "code",
   "execution_count": 8,
   "id": "83f514a8",
   "metadata": {},
   "outputs": [
    {
     "data": {
      "text/plain": [
       "<AxesSubplot:>"
      ]
     },
     "execution_count": 8,
     "metadata": {},
     "output_type": "execute_result"
    },
    {
     "data": {
      "image/png": "[encoded data removed]",
      "text/plain": [
       "<Figure size 640x480 with 2 Axes>"
      ]
     },
     "metadata": {},
     "output_type": "display_data"
    }
   ],
   "source": [
    "sns.heatmap(df.corr())"
   ]
  },
  {
   "cell_type": "markdown",
   "id": "5c9f5200",
   "metadata": {},
   "source": [
    "# Tasks: 1)How many employees are in the dataset?"
   ]
  },
  {
   "cell_type": "code",
   "execution_count": 9,
   "id": "0eec1f43",
   "metadata": {},
   "outputs": [
    {
     "data": {
      "text/plain": [
       "200"
      ]
     },
     "execution_count": 9,
     "metadata": {},
     "output_type": "execute_result"
    }
   ],
   "source": [
    "df['Name'].nunique(dropna=True)"
   ]
  },
  {
   "cell_type": "markdown",
   "id": "ac878526",
   "metadata": {},
   "source": [
    "200 employees are present in the data"
   ]
  },
  {
   "cell_type": "markdown",
   "id": "4fff1400",
   "metadata": {},
   "source": [
    "# What is the average age of employees in each department? "
   ]
  },
  {
   "cell_type": "code",
   "execution_count": 10,
   "id": "35c513d0",
   "metadata": {},
   "outputs": [
    {
     "data": {
      "text/plain": [
       "34.65"
      ]
     },
     "execution_count": 10,
     "metadata": {},
     "output_type": "execute_result"
    }
   ],
   "source": [
    "df['Age'].mean()"
   ]
  },
  {
   "cell_type": "code",
   "execution_count": 11,
   "id": "7a2fa65b",
   "metadata": {},
   "outputs": [
    {
     "data": {
      "text/html": [
       "<div>\n",
       "<style scoped>\n",
       "    .dataframe tbody tr th:only-of-type {\n",
       "        vertical-align: middle;\n",
       "    }\n",
       "\n",
       "    .dataframe tbody tr th {\n",
       "        vertical-align: top;\n",
       "    }\n",
       "\n",
       "    .dataframe thead th {\n",
       "        text-align: right;\n",
       "    }\n",
       "</style>\n",
       "<table border=\"1\" class=\"dataframe\">\n",
       "  <thead>\n",
       "    <tr style=\"text-align: right;\">\n",
       "      <th></th>\n",
       "      <th>Name</th>\n",
       "      <th>Age</th>\n",
       "      <th>Gender</th>\n",
       "      <th>Projects Completed</th>\n",
       "      <th>Productivity (%)</th>\n",
       "      <th>Satisfaction Rate (%)</th>\n",
       "      <th>Feedback Score</th>\n",
       "      <th>Department</th>\n",
       "      <th>Position</th>\n",
       "      <th>Joining Date</th>\n",
       "      <th>Salary</th>\n",
       "    </tr>\n",
       "  </thead>\n",
       "  <tbody>\n",
       "    <tr>\n",
       "      <th>0</th>\n",
       "      <td>Douglas Lindsey</td>\n",
       "      <td>25</td>\n",
       "      <td>Male</td>\n",
       "      <td>11</td>\n",
       "      <td>57</td>\n",
       "      <td>25</td>\n",
       "      <td>4.7</td>\n",
       "      <td>Marketing</td>\n",
       "      <td>Analyst</td>\n",
       "      <td>Jan-20</td>\n",
       "      <td>63596</td>\n",
       "    </tr>\n",
       "    <tr>\n",
       "      <th>1</th>\n",
       "      <td>Anthony Roberson</td>\n",
       "      <td>59</td>\n",
       "      <td>Female</td>\n",
       "      <td>19</td>\n",
       "      <td>55</td>\n",
       "      <td>76</td>\n",
       "      <td>2.8</td>\n",
       "      <td>IT</td>\n",
       "      <td>Manager</td>\n",
       "      <td>Jan-99</td>\n",
       "      <td>112540</td>\n",
       "    </tr>\n",
       "    <tr>\n",
       "      <th>2</th>\n",
       "      <td>Thomas Miller</td>\n",
       "      <td>30</td>\n",
       "      <td>Male</td>\n",
       "      <td>8</td>\n",
       "      <td>87</td>\n",
       "      <td>10</td>\n",
       "      <td>2.4</td>\n",
       "      <td>IT</td>\n",
       "      <td>Analyst</td>\n",
       "      <td>Jan-17</td>\n",
       "      <td>66292</td>\n",
       "    </tr>\n",
       "    <tr>\n",
       "      <th>3</th>\n",
       "      <td>Joshua Lewis</td>\n",
       "      <td>26</td>\n",
       "      <td>Female</td>\n",
       "      <td>1</td>\n",
       "      <td>53</td>\n",
       "      <td>4</td>\n",
       "      <td>1.4</td>\n",
       "      <td>Marketing</td>\n",
       "      <td>Intern</td>\n",
       "      <td>Jan-22</td>\n",
       "      <td>38303</td>\n",
       "    </tr>\n",
       "    <tr>\n",
       "      <th>4</th>\n",
       "      <td>Stephanie Bailey</td>\n",
       "      <td>43</td>\n",
       "      <td>Male</td>\n",
       "      <td>14</td>\n",
       "      <td>3</td>\n",
       "      <td>9</td>\n",
       "      <td>4.5</td>\n",
       "      <td>IT</td>\n",
       "      <td>Team Lead</td>\n",
       "      <td>Jan-05</td>\n",
       "      <td>101133</td>\n",
       "    </tr>\n",
       "    <tr>\n",
       "      <th>...</th>\n",
       "      <td>...</td>\n",
       "      <td>...</td>\n",
       "      <td>...</td>\n",
       "      <td>...</td>\n",
       "      <td>...</td>\n",
       "      <td>...</td>\n",
       "      <td>...</td>\n",
       "      <td>...</td>\n",
       "      <td>...</td>\n",
       "      <td>...</td>\n",
       "      <td>...</td>\n",
       "    </tr>\n",
       "    <tr>\n",
       "      <th>195</th>\n",
       "      <td>Stephanie Fisher</td>\n",
       "      <td>29</td>\n",
       "      <td>Female</td>\n",
       "      <td>9</td>\n",
       "      <td>32</td>\n",
       "      <td>87</td>\n",
       "      <td>3.5</td>\n",
       "      <td>HR</td>\n",
       "      <td>Junior Developer</td>\n",
       "      <td>Jan-19</td>\n",
       "      <td>50051</td>\n",
       "    </tr>\n",
       "    <tr>\n",
       "      <th>196</th>\n",
       "      <td>Jeremy Miller</td>\n",
       "      <td>26</td>\n",
       "      <td>Male</td>\n",
       "      <td>7</td>\n",
       "      <td>45</td>\n",
       "      <td>28</td>\n",
       "      <td>2.8</td>\n",
       "      <td>IT</td>\n",
       "      <td>Junior Developer</td>\n",
       "      <td>Jan-21</td>\n",
       "      <td>46612</td>\n",
       "    </tr>\n",
       "    <tr>\n",
       "      <th>197</th>\n",
       "      <td>Daniel Pierce</td>\n",
       "      <td>22</td>\n",
       "      <td>Male</td>\n",
       "      <td>3</td>\n",
       "      <td>36</td>\n",
       "      <td>77</td>\n",
       "      <td>1.6</td>\n",
       "      <td>Finance</td>\n",
       "      <td>Intern</td>\n",
       "      <td>Jan-21</td>\n",
       "      <td>32992</td>\n",
       "    </tr>\n",
       "    <tr>\n",
       "      <th>198</th>\n",
       "      <td>Michael Hernandez</td>\n",
       "      <td>36</td>\n",
       "      <td>Female</td>\n",
       "      <td>23</td>\n",
       "      <td>96</td>\n",
       "      <td>50</td>\n",
       "      <td>3.4</td>\n",
       "      <td>Marketing</td>\n",
       "      <td>Manager</td>\n",
       "      <td>Jan-05</td>\n",
       "      <td>104216</td>\n",
       "    </tr>\n",
       "    <tr>\n",
       "      <th>199</th>\n",
       "      <td>Victor Gutierrez</td>\n",
       "      <td>43</td>\n",
       "      <td>Male</td>\n",
       "      <td>10</td>\n",
       "      <td>86</td>\n",
       "      <td>71</td>\n",
       "      <td>2.0</td>\n",
       "      <td>IT</td>\n",
       "      <td>Team Lead</td>\n",
       "      <td>Jan-14</td>\n",
       "      <td>104341</td>\n",
       "    </tr>\n",
       "  </tbody>\n",
       "</table>\n",
       "<p>200 rows × 11 columns</p>\n",
       "</div>"
      ],
      "text/plain": [
       "                  Name  Age  Gender  Projects Completed  Productivity (%)  \\\n",
       "0      Douglas Lindsey   25    Male                  11                57   \n",
       "1     Anthony Roberson   59  Female                  19                55   \n",
       "2        Thomas Miller   30    Male                   8                87   \n",
       "3         Joshua Lewis   26  Female                   1                53   \n",
       "4     Stephanie Bailey   43    Male                  14                 3   \n",
       "..                 ...  ...     ...                 ...               ...   \n",
       "195   Stephanie Fisher   29  Female                   9                32   \n",
       "196      Jeremy Miller   26    Male                   7                45   \n",
       "197      Daniel Pierce   22    Male                   3                36   \n",
       "198  Michael Hernandez   36  Female                  23                96   \n",
       "199   Victor Gutierrez   43    Male                  10                86   \n",
       "\n",
       "     Satisfaction Rate (%)  Feedback Score Department          Position  \\\n",
       "0                       25             4.7  Marketing           Analyst   \n",
       "1                       76             2.8         IT           Manager   \n",
       "2                       10             2.4         IT           Analyst   \n",
       "3                        4             1.4  Marketing            Intern   \n",
       "4                        9             4.5         IT         Team Lead   \n",
       "..                     ...             ...        ...               ...   \n",
       "195                     87             3.5         HR  Junior Developer   \n",
       "196                     28             2.8         IT  Junior Developer   \n",
       "197                     77             1.6    Finance            Intern   \n",
       "198                     50             3.4  Marketing           Manager   \n",
       "199                     71             2.0         IT         Team Lead   \n",
       "\n",
       "    Joining Date  Salary  \n",
       "0         Jan-20   63596  \n",
       "1         Jan-99  112540  \n",
       "2         Jan-17   66292  \n",
       "3         Jan-22   38303  \n",
       "4         Jan-05  101133  \n",
       "..           ...     ...  \n",
       "195       Jan-19   50051  \n",
       "196       Jan-21   46612  \n",
       "197       Jan-21   32992  \n",
       "198       Jan-05  104216  \n",
       "199       Jan-14  104341  \n",
       "\n",
       "[200 rows x 11 columns]"
      ]
     },
     "execution_count": 11,
     "metadata": {},
     "output_type": "execute_result"
    }
   ],
   "source": [
    "df.drop_duplicates()"
   ]
  },
  {
   "cell_type": "code",
   "execution_count": 12,
   "id": "1e3ed696",
   "metadata": {},
   "outputs": [
    {
     "data": {
      "text/plain": [
       "34.65"
      ]
     },
     "execution_count": 12,
     "metadata": {},
     "output_type": "execute_result"
    }
   ],
   "source": [
    "df['Age'].mean()"
   ]
  },
  {
   "cell_type": "markdown",
   "id": "6a0de30a",
   "metadata": {},
   "source": [
    "Average age is 34.65"
   ]
  },
  {
   "cell_type": "markdown",
   "id": "cbd8e48f",
   "metadata": {},
   "source": [
    "# Create a histogram of employees' ages. How does the age distribution look?"
   ]
  },
  {
   "cell_type": "code",
   "execution_count": 13,
   "id": "581805f0",
   "metadata": {},
   "outputs": [
    {
     "name": "stderr",
     "output_type": "stream",
     "text": [
      "C:\\ProgramData\\Anaconda3\\lib\\site-packages\\seaborn\\distributions.py:2619: FutureWarning: `distplot` is a deprecated function and will be removed in a future version. Please adapt your code to use either `displot` (a figure-level function with similar flexibility) or `histplot` (an axes-level function for histograms).\n",
      "  warnings.warn(msg, FutureWarning)\n"
     ]
    },
    {
     "data": {
      "text/plain": [
       "<AxesSubplot:xlabel='Age', ylabel='Density'>"
      ]
     },
     "execution_count": 13,
     "metadata": {},
     "output_type": "execute_result"
    },
    {
     "data": {
      "image/png": "[encoded data removed]",
      "text/plain": [
       "<Figure size 640x480 with 1 Axes>"
      ]
     },
     "metadata": {},
     "output_type": "display_data"
    }
   ],
   "source": [
    "sns.distplot(df['Age'])"
   ]
  },
  {
   "cell_type": "markdown",
   "id": "e8c3202f",
   "metadata": {},
   "source": [
    "Age distribution in right skewed "
   ]
  },
  {
   "cell_type": "code",
   "execution_count": 14,
   "id": "6367bf1a",
   "metadata": {},
   "outputs": [
    {
     "data": {
      "text/plain": [
       "(array([37., 46., 25., 22., 15., 22., 10., 10.,  4.,  9.]),\n",
       " array([22. , 25.8, 29.6, 33.4, 37.2, 41. , 44.8, 48.6, 52.4, 56.2, 60. ]),\n",
       " <BarContainer object of 10 artists>)"
      ]
     },
     "execution_count": 14,
     "metadata": {},
     "output_type": "execute_result"
    },
    {
     "data": {
      "image/png": "[encoded data removed]",
      "text/plain": [
       "<Figure size 640x480 with 1 Axes>"
      ]
     },
     "metadata": {},
     "output_type": "display_data"
    }
   ],
   "source": [
    "plt.hist(df['Age'])"
   ]
  },
  {
   "cell_type": "code",
   "execution_count": 15,
   "id": "0adbe83e",
   "metadata": {},
   "outputs": [
    {
     "data": {
      "text/plain": [
       "(22, 60)"
      ]
     },
     "execution_count": 15,
     "metadata": {},
     "output_type": "execute_result"
    }
   ],
   "source": [
    "df['Age'].min(),df['Age'].max()"
   ]
  },
  {
   "cell_type": "markdown",
   "id": "87dc5555",
   "metadata": {},
   "source": [
    "Age ranges from 22 till 60"
   ]
  },
  {
   "cell_type": "markdown",
   "id": "79a1952c",
   "metadata": {},
   "source": [
    "# Is there a correlation between years of experience and salary? Visualize the relationship.\n"
   ]
  },
  {
   "cell_type": "code",
   "execution_count": 17,
   "id": "dc2e0f23",
   "metadata": {},
   "outputs": [
    {
     "data": {
      "text/html": [
       "<div>\n",
       "<style scoped>\n",
       "    .dataframe tbody tr th:only-of-type {\n",
       "        vertical-align: middle;\n",
       "    }\n",
       "\n",
       "    .dataframe tbody tr th {\n",
       "        vertical-align: top;\n",
       "    }\n",
       "\n",
       "    .dataframe thead th {\n",
       "        text-align: right;\n",
       "    }\n",
       "</style>\n",
       "<table border=\"1\" class=\"dataframe\">\n",
       "  <thead>\n",
       "    <tr style=\"text-align: right;\">\n",
       "      <th></th>\n",
       "      <th>Name</th>\n",
       "      <th>Age</th>\n",
       "      <th>Gender</th>\n",
       "      <th>Projects Completed</th>\n",
       "      <th>Productivity (%)</th>\n",
       "      <th>Satisfaction Rate (%)</th>\n",
       "      <th>Feedback Score</th>\n",
       "      <th>Department</th>\n",
       "      <th>Position</th>\n",
       "      <th>Joining Date</th>\n",
       "      <th>Salary</th>\n",
       "    </tr>\n",
       "  </thead>\n",
       "  <tbody>\n",
       "    <tr>\n",
       "      <th>85</th>\n",
       "      <td>Debbie Torres</td>\n",
       "      <td>59</td>\n",
       "      <td>Female</td>\n",
       "      <td>20</td>\n",
       "      <td>50</td>\n",
       "      <td>85</td>\n",
       "      <td>1.9</td>\n",
       "      <td>Finance</td>\n",
       "      <td>Manager</td>\n",
       "      <td>Jan-14</td>\n",
       "      <td>103172</td>\n",
       "    </tr>\n",
       "    <tr>\n",
       "      <th>87</th>\n",
       "      <td>Jerry Mccoy</td>\n",
       "      <td>44</td>\n",
       "      <td>Male</td>\n",
       "      <td>17</td>\n",
       "      <td>89</td>\n",
       "      <td>0</td>\n",
       "      <td>2.1</td>\n",
       "      <td>IT</td>\n",
       "      <td>Senior Developer</td>\n",
       "      <td>Jan-03</td>\n",
       "      <td>93702</td>\n",
       "    </tr>\n",
       "    <tr>\n",
       "      <th>109</th>\n",
       "      <td>Justin Williams</td>\n",
       "      <td>25</td>\n",
       "      <td>Female</td>\n",
       "      <td>4</td>\n",
       "      <td>48</td>\n",
       "      <td>49</td>\n",
       "      <td>3.4</td>\n",
       "      <td>Sales</td>\n",
       "      <td>Junior Developer</td>\n",
       "      <td>Jan-18</td>\n",
       "      <td>54193</td>\n",
       "    </tr>\n",
       "    <tr>\n",
       "      <th>83</th>\n",
       "      <td>Calvin Mullen</td>\n",
       "      <td>49</td>\n",
       "      <td>Female</td>\n",
       "      <td>24</td>\n",
       "      <td>76</td>\n",
       "      <td>87</td>\n",
       "      <td>3.1</td>\n",
       "      <td>Marketing</td>\n",
       "      <td>Manager</td>\n",
       "      <td>Jan-98</td>\n",
       "      <td>107320</td>\n",
       "    </tr>\n",
       "    <tr>\n",
       "      <th>139</th>\n",
       "      <td>Andrew Johnson</td>\n",
       "      <td>29</td>\n",
       "      <td>Male</td>\n",
       "      <td>5</td>\n",
       "      <td>43</td>\n",
       "      <td>49</td>\n",
       "      <td>3.6</td>\n",
       "      <td>Finance</td>\n",
       "      <td>Analyst</td>\n",
       "      <td>Jan-19</td>\n",
       "      <td>69725</td>\n",
       "    </tr>\n",
       "    <tr>\n",
       "      <th>44</th>\n",
       "      <td>Mallory Lawrence</td>\n",
       "      <td>25</td>\n",
       "      <td>Male</td>\n",
       "      <td>5</td>\n",
       "      <td>61</td>\n",
       "      <td>48</td>\n",
       "      <td>1.7</td>\n",
       "      <td>Finance</td>\n",
       "      <td>Analyst</td>\n",
       "      <td>Jan-16</td>\n",
       "      <td>65633</td>\n",
       "    </tr>\n",
       "    <tr>\n",
       "      <th>128</th>\n",
       "      <td>Geoffrey Kelley</td>\n",
       "      <td>33</td>\n",
       "      <td>Male</td>\n",
       "      <td>15</td>\n",
       "      <td>19</td>\n",
       "      <td>54</td>\n",
       "      <td>3.8</td>\n",
       "      <td>Finance</td>\n",
       "      <td>Analyst</td>\n",
       "      <td>Jan-16</td>\n",
       "      <td>69087</td>\n",
       "    </tr>\n",
       "    <tr>\n",
       "      <th>125</th>\n",
       "      <td>Jill Anderson</td>\n",
       "      <td>41</td>\n",
       "      <td>Female</td>\n",
       "      <td>8</td>\n",
       "      <td>71</td>\n",
       "      <td>56</td>\n",
       "      <td>4.4</td>\n",
       "      <td>IT</td>\n",
       "      <td>Senior Developer</td>\n",
       "      <td>Jan-05</td>\n",
       "      <td>84510</td>\n",
       "    </tr>\n",
       "    <tr>\n",
       "      <th>79</th>\n",
       "      <td>Paula Gamble</td>\n",
       "      <td>30</td>\n",
       "      <td>Female</td>\n",
       "      <td>9</td>\n",
       "      <td>53</td>\n",
       "      <td>67</td>\n",
       "      <td>3.6</td>\n",
       "      <td>Marketing</td>\n",
       "      <td>Senior Developer</td>\n",
       "      <td>Jan-11</td>\n",
       "      <td>82101</td>\n",
       "    </tr>\n",
       "    <tr>\n",
       "      <th>5</th>\n",
       "      <td>Jonathan King</td>\n",
       "      <td>24</td>\n",
       "      <td>Male</td>\n",
       "      <td>5</td>\n",
       "      <td>63</td>\n",
       "      <td>33</td>\n",
       "      <td>4.2</td>\n",
       "      <td>Sales</td>\n",
       "      <td>Junior Developer</td>\n",
       "      <td>Jan-21</td>\n",
       "      <td>48740</td>\n",
       "    </tr>\n",
       "  </tbody>\n",
       "</table>\n",
       "</div>"
      ],
      "text/plain": [
       "                 Name  Age  Gender  Projects Completed  Productivity (%)  \\\n",
       "85      Debbie Torres   59  Female                  20                50   \n",
       "87        Jerry Mccoy   44    Male                  17                89   \n",
       "109   Justin Williams   25  Female                   4                48   \n",
       "83      Calvin Mullen   49  Female                  24                76   \n",
       "139    Andrew Johnson   29    Male                   5                43   \n",
       "44   Mallory Lawrence   25    Male                   5                61   \n",
       "128   Geoffrey Kelley   33    Male                  15                19   \n",
       "125     Jill Anderson   41  Female                   8                71   \n",
       "79       Paula Gamble   30  Female                   9                53   \n",
       "5       Jonathan King   24    Male                   5                63   \n",
       "\n",
       "     Satisfaction Rate (%)  Feedback Score Department          Position  \\\n",
       "85                      85             1.9    Finance           Manager   \n",
       "87                       0             2.1         IT  Senior Developer   \n",
       "109                     49             3.4      Sales  Junior Developer   \n",
       "83                      87             3.1  Marketing           Manager   \n",
       "139                     49             3.6    Finance           Analyst   \n",
       "44                      48             1.7    Finance           Analyst   \n",
       "128                     54             3.8    Finance           Analyst   \n",
       "125                     56             4.4         IT  Senior Developer   \n",
       "79                      67             3.6  Marketing  Senior Developer   \n",
       "5                       33             4.2      Sales  Junior Developer   \n",
       "\n",
       "    Joining Date  Salary  \n",
       "85        Jan-14  103172  \n",
       "87        Jan-03   93702  \n",
       "109       Jan-18   54193  \n",
       "83        Jan-98  107320  \n",
       "139       Jan-19   69725  \n",
       "44        Jan-16   65633  \n",
       "128       Jan-16   69087  \n",
       "125       Jan-05   84510  \n",
       "79        Jan-11   82101  \n",
       "5         Jan-21   48740  "
      ]
     },
     "execution_count": 17,
     "metadata": {},
     "output_type": "execute_result"
    }
   ],
   "source": [
    "df.sample(10)"
   ]
  },
  {
   "cell_type": "code",
   "execution_count": 18,
   "id": "f7f3cf18",
   "metadata": {},
   "outputs": [
    {
     "name": "stdout",
     "output_type": "stream",
     "text": [
      "<class 'pandas.core.frame.DataFrame'>\n",
      "RangeIndex: 200 entries, 0 to 199\n",
      "Data columns (total 11 columns):\n",
      " #   Column                 Non-Null Count  Dtype  \n",
      "---  ------                 --------------  -----  \n",
      " 0   Name                   200 non-null    object \n",
      " 1   Age                    200 non-null    int64  \n",
      " 2   Gender                 200 non-null    object \n",
      " 3   Projects Completed     200 non-null    int64  \n",
      " 4   Productivity (%)       200 non-null    int64  \n",
      " 5   Satisfaction Rate (%)  200 non-null    int64  \n",
      " 6   Feedback Score         200 non-null    float64\n",
      " 7   Department             200 non-null    object \n",
      " 8   Position               200 non-null    object \n",
      " 9   Joining Date           200 non-null    object \n",
      " 10  Salary                 200 non-null    int64  \n",
      "dtypes: float64(1), int64(5), object(5)\n",
      "memory usage: 17.3+ KB\n"
     ]
    }
   ],
   "source": [
    "df.info()"
   ]
  },
  {
   "cell_type": "code",
   "execution_count": 23,
   "id": "9a45e9c5",
   "metadata": {},
   "outputs": [
    {
     "data": {
      "text/html": [
       "<div>\n",
       "<style scoped>\n",
       "    .dataframe tbody tr th:only-of-type {\n",
       "        vertical-align: middle;\n",
       "    }\n",
       "\n",
       "    .dataframe tbody tr th {\n",
       "        vertical-align: top;\n",
       "    }\n",
       "\n",
       "    .dataframe thead th {\n",
       "        text-align: right;\n",
       "    }\n",
       "</style>\n",
       "<table border=\"1\" class=\"dataframe\">\n",
       "  <thead>\n",
       "    <tr style=\"text-align: right;\">\n",
       "      <th></th>\n",
       "      <th>Name</th>\n",
       "      <th>Age</th>\n",
       "      <th>Gender</th>\n",
       "      <th>Projects Completed</th>\n",
       "      <th>Productivity (%)</th>\n",
       "      <th>Satisfaction Rate (%)</th>\n",
       "      <th>Feedback Score</th>\n",
       "      <th>Department</th>\n",
       "      <th>Position</th>\n",
       "      <th>Joining Date</th>\n",
       "      <th>Salary</th>\n",
       "    </tr>\n",
       "  </thead>\n",
       "  <tbody>\n",
       "    <tr>\n",
       "      <th>0</th>\n",
       "      <td>Douglas Lindsey</td>\n",
       "      <td>25</td>\n",
       "      <td>Male</td>\n",
       "      <td>11</td>\n",
       "      <td>57</td>\n",
       "      <td>25</td>\n",
       "      <td>4.7</td>\n",
       "      <td>Marketing</td>\n",
       "      <td>Analyst</td>\n",
       "      <td>2020-01-01</td>\n",
       "      <td>63596</td>\n",
       "    </tr>\n",
       "    <tr>\n",
       "      <th>1</th>\n",
       "      <td>Anthony Roberson</td>\n",
       "      <td>59</td>\n",
       "      <td>Female</td>\n",
       "      <td>19</td>\n",
       "      <td>55</td>\n",
       "      <td>76</td>\n",
       "      <td>2.8</td>\n",
       "      <td>IT</td>\n",
       "      <td>Manager</td>\n",
       "      <td>1999-01-01</td>\n",
       "      <td>112540</td>\n",
       "    </tr>\n",
       "    <tr>\n",
       "      <th>2</th>\n",
       "      <td>Thomas Miller</td>\n",
       "      <td>30</td>\n",
       "      <td>Male</td>\n",
       "      <td>8</td>\n",
       "      <td>87</td>\n",
       "      <td>10</td>\n",
       "      <td>2.4</td>\n",
       "      <td>IT</td>\n",
       "      <td>Analyst</td>\n",
       "      <td>2017-01-01</td>\n",
       "      <td>66292</td>\n",
       "    </tr>\n",
       "    <tr>\n",
       "      <th>3</th>\n",
       "      <td>Joshua Lewis</td>\n",
       "      <td>26</td>\n",
       "      <td>Female</td>\n",
       "      <td>1</td>\n",
       "      <td>53</td>\n",
       "      <td>4</td>\n",
       "      <td>1.4</td>\n",
       "      <td>Marketing</td>\n",
       "      <td>Intern</td>\n",
       "      <td>2022-01-01</td>\n",
       "      <td>38303</td>\n",
       "    </tr>\n",
       "    <tr>\n",
       "      <th>4</th>\n",
       "      <td>Stephanie Bailey</td>\n",
       "      <td>43</td>\n",
       "      <td>Male</td>\n",
       "      <td>14</td>\n",
       "      <td>3</td>\n",
       "      <td>9</td>\n",
       "      <td>4.5</td>\n",
       "      <td>IT</td>\n",
       "      <td>Team Lead</td>\n",
       "      <td>2005-01-01</td>\n",
       "      <td>101133</td>\n",
       "    </tr>\n",
       "  </tbody>\n",
       "</table>\n",
       "</div>"
      ],
      "text/plain": [
       "               Name  Age  Gender  Projects Completed  Productivity (%)  \\\n",
       "0   Douglas Lindsey   25    Male                  11                57   \n",
       "1  Anthony Roberson   59  Female                  19                55   \n",
       "2     Thomas Miller   30    Male                   8                87   \n",
       "3      Joshua Lewis   26  Female                   1                53   \n",
       "4  Stephanie Bailey   43    Male                  14                 3   \n",
       "\n",
       "   Satisfaction Rate (%)  Feedback Score Department   Position Joining Date  \\\n",
       "0                     25             4.7  Marketing    Analyst   2020-01-01   \n",
       "1                     76             2.8         IT    Manager   1999-01-01   \n",
       "2                     10             2.4         IT    Analyst   2017-01-01   \n",
       "3                      4             1.4  Marketing     Intern   2022-01-01   \n",
       "4                      9             4.5         IT  Team Lead   2005-01-01   \n",
       "\n",
       "   Salary  \n",
       "0   63596  \n",
       "1  112540  \n",
       "2   66292  \n",
       "3   38303  \n",
       "4  101133  "
      ]
     },
     "execution_count": 23,
     "metadata": {},
     "output_type": "execute_result"
    }
   ],
   "source": [
    "df['Joining Date']=pd.to_datetime(df['Joining Date'],format='%b-%y')\n",
    "df.head()"
   ]
  },
  {
   "cell_type": "code",
   "execution_count": 24,
   "id": "46b9088e",
   "metadata": {},
   "outputs": [
    {
     "name": "stdout",
     "output_type": "stream",
     "text": [
      "<class 'pandas.core.frame.DataFrame'>\n",
      "RangeIndex: 200 entries, 0 to 199\n",
      "Data columns (total 11 columns):\n",
      " #   Column                 Non-Null Count  Dtype         \n",
      "---  ------                 --------------  -----         \n",
      " 0   Name                   200 non-null    object        \n",
      " 1   Age                    200 non-null    int64         \n",
      " 2   Gender                 200 non-null    object        \n",
      " 3   Projects Completed     200 non-null    int64         \n",
      " 4   Productivity (%)       200 non-null    int64         \n",
      " 5   Satisfaction Rate (%)  200 non-null    int64         \n",
      " 6   Feedback Score         200 non-null    float64       \n",
      " 7   Department             200 non-null    object        \n",
      " 8   Position               200 non-null    object        \n",
      " 9   Joining Date           200 non-null    datetime64[ns]\n",
      " 10  Salary                 200 non-null    int64         \n",
      "dtypes: datetime64[ns](1), float64(1), int64(5), object(4)\n",
      "memory usage: 17.3+ KB\n"
     ]
    }
   ],
   "source": [
    "df.info()"
   ]
  },
  {
   "cell_type": "code",
   "execution_count": 26,
   "id": "5f1e9775",
   "metadata": {},
   "outputs": [
    {
     "data": {
      "text/html": [
       "<div>\n",
       "<style scoped>\n",
       "    .dataframe tbody tr th:only-of-type {\n",
       "        vertical-align: middle;\n",
       "    }\n",
       "\n",
       "    .dataframe tbody tr th {\n",
       "        vertical-align: top;\n",
       "    }\n",
       "\n",
       "    .dataframe thead th {\n",
       "        text-align: right;\n",
       "    }\n",
       "</style>\n",
       "<table border=\"1\" class=\"dataframe\">\n",
       "  <thead>\n",
       "    <tr style=\"text-align: right;\">\n",
       "      <th></th>\n",
       "      <th>Name</th>\n",
       "      <th>Age</th>\n",
       "      <th>Gender</th>\n",
       "      <th>Projects Completed</th>\n",
       "      <th>Productivity (%)</th>\n",
       "      <th>Satisfaction Rate (%)</th>\n",
       "      <th>Feedback Score</th>\n",
       "      <th>Department</th>\n",
       "      <th>Position</th>\n",
       "      <th>Joining Date</th>\n",
       "      <th>Salary</th>\n",
       "      <th>Date</th>\n",
       "    </tr>\n",
       "  </thead>\n",
       "  <tbody>\n",
       "    <tr>\n",
       "      <th>0</th>\n",
       "      <td>Douglas Lindsey</td>\n",
       "      <td>25</td>\n",
       "      <td>Male</td>\n",
       "      <td>11</td>\n",
       "      <td>57</td>\n",
       "      <td>25</td>\n",
       "      <td>4.7</td>\n",
       "      <td>Marketing</td>\n",
       "      <td>Analyst</td>\n",
       "      <td>2020-01-01</td>\n",
       "      <td>63596</td>\n",
       "      <td>2020-01-01</td>\n",
       "    </tr>\n",
       "    <tr>\n",
       "      <th>1</th>\n",
       "      <td>Anthony Roberson</td>\n",
       "      <td>59</td>\n",
       "      <td>Female</td>\n",
       "      <td>19</td>\n",
       "      <td>55</td>\n",
       "      <td>76</td>\n",
       "      <td>2.8</td>\n",
       "      <td>IT</td>\n",
       "      <td>Manager</td>\n",
       "      <td>1999-01-01</td>\n",
       "      <td>112540</td>\n",
       "      <td>1999-01-01</td>\n",
       "    </tr>\n",
       "    <tr>\n",
       "      <th>2</th>\n",
       "      <td>Thomas Miller</td>\n",
       "      <td>30</td>\n",
       "      <td>Male</td>\n",
       "      <td>8</td>\n",
       "      <td>87</td>\n",
       "      <td>10</td>\n",
       "      <td>2.4</td>\n",
       "      <td>IT</td>\n",
       "      <td>Analyst</td>\n",
       "      <td>2017-01-01</td>\n",
       "      <td>66292</td>\n",
       "      <td>2017-01-01</td>\n",
       "    </tr>\n",
       "    <tr>\n",
       "      <th>3</th>\n",
       "      <td>Joshua Lewis</td>\n",
       "      <td>26</td>\n",
       "      <td>Female</td>\n",
       "      <td>1</td>\n",
       "      <td>53</td>\n",
       "      <td>4</td>\n",
       "      <td>1.4</td>\n",
       "      <td>Marketing</td>\n",
       "      <td>Intern</td>\n",
       "      <td>2022-01-01</td>\n",
       "      <td>38303</td>\n",
       "      <td>2022-01-01</td>\n",
       "    </tr>\n",
       "    <tr>\n",
       "      <th>4</th>\n",
       "      <td>Stephanie Bailey</td>\n",
       "      <td>43</td>\n",
       "      <td>Male</td>\n",
       "      <td>14</td>\n",
       "      <td>3</td>\n",
       "      <td>9</td>\n",
       "      <td>4.5</td>\n",
       "      <td>IT</td>\n",
       "      <td>Team Lead</td>\n",
       "      <td>2005-01-01</td>\n",
       "      <td>101133</td>\n",
       "      <td>2005-01-01</td>\n",
       "    </tr>\n",
       "  </tbody>\n",
       "</table>\n",
       "</div>"
      ],
      "text/plain": [
       "               Name  Age  Gender  Projects Completed  Productivity (%)  \\\n",
       "0   Douglas Lindsey   25    Male                  11                57   \n",
       "1  Anthony Roberson   59  Female                  19                55   \n",
       "2     Thomas Miller   30    Male                   8                87   \n",
       "3      Joshua Lewis   26  Female                   1                53   \n",
       "4  Stephanie Bailey   43    Male                  14                 3   \n",
       "\n",
       "   Satisfaction Rate (%)  Feedback Score Department   Position Joining Date  \\\n",
       "0                     25             4.7  Marketing    Analyst   2020-01-01   \n",
       "1                     76             2.8         IT    Manager   1999-01-01   \n",
       "2                     10             2.4         IT    Analyst   2017-01-01   \n",
       "3                      4             1.4  Marketing     Intern   2022-01-01   \n",
       "4                      9             4.5         IT  Team Lead   2005-01-01   \n",
       "\n",
       "   Salary        Date  \n",
       "0   63596  2020-01-01  \n",
       "1  112540  1999-01-01  \n",
       "2   66292  2017-01-01  \n",
       "3   38303  2022-01-01  \n",
       "4  101133  2005-01-01  "
      ]
     },
     "execution_count": 26,
     "metadata": {},
     "output_type": "execute_result"
    }
   ],
   "source": [
    "df.head()"
   ]
  },
  {
   "cell_type": "code",
   "execution_count": 28,
   "id": "6b3a3433",
   "metadata": {},
   "outputs": [
    {
     "data": {
      "text/plain": [
       "datetime.date(2024, 2, 29)"
      ]
     },
     "execution_count": 28,
     "metadata": {},
     "output_type": "execute_result"
    }
   ],
   "source": [
    "import datetime\n",
    "today = datetime.date.today()\n",
    "today"
   ]
  },
  {
   "cell_type": "code",
   "execution_count": 29,
   "id": "586c451c",
   "metadata": {},
   "outputs": [
    {
     "data": {
      "text/plain": [
       "0     1520 days\n",
       "1     9190 days\n",
       "2     2615 days\n",
       "3      789 days\n",
       "4     6998 days\n",
       "         ...   \n",
       "195   1885 days\n",
       "196   1154 days\n",
       "197   1154 days\n",
       "198   6998 days\n",
       "199   3711 days\n",
       "Name: Date, Length: 200, dtype: timedelta64[ns]"
      ]
     },
     "execution_count": 29,
     "metadata": {},
     "output_type": "execute_result"
    }
   ],
   "source": [
    "today-df['Date']"
   ]
  },
  {
   "cell_type": "code",
   "execution_count": 32,
   "id": "0010d14a",
   "metadata": {},
   "outputs": [],
   "source": [
    "df['YOE']=np.round((today -df['Date']) / np.timedelta64(1, 'Y'),0)"
   ]
  },
  {
   "cell_type": "code",
   "execution_count": 33,
   "id": "4cf1e4dc",
   "metadata": {},
   "outputs": [
    {
     "data": {
      "text/html": [
       "<div>\n",
       "<style scoped>\n",
       "    .dataframe tbody tr th:only-of-type {\n",
       "        vertical-align: middle;\n",
       "    }\n",
       "\n",
       "    .dataframe tbody tr th {\n",
       "        vertical-align: top;\n",
       "    }\n",
       "\n",
       "    .dataframe thead th {\n",
       "        text-align: right;\n",
       "    }\n",
       "</style>\n",
       "<table border=\"1\" class=\"dataframe\">\n",
       "  <thead>\n",
       "    <tr style=\"text-align: right;\">\n",
       "      <th></th>\n",
       "      <th>Name</th>\n",
       "      <th>Age</th>\n",
       "      <th>Gender</th>\n",
       "      <th>Projects Completed</th>\n",
       "      <th>Productivity (%)</th>\n",
       "      <th>Satisfaction Rate (%)</th>\n",
       "      <th>Feedback Score</th>\n",
       "      <th>Department</th>\n",
       "      <th>Position</th>\n",
       "      <th>Joining Date</th>\n",
       "      <th>Salary</th>\n",
       "      <th>Date</th>\n",
       "      <th>YOE</th>\n",
       "    </tr>\n",
       "  </thead>\n",
       "  <tbody>\n",
       "    <tr>\n",
       "      <th>0</th>\n",
       "      <td>Douglas Lindsey</td>\n",
       "      <td>25</td>\n",
       "      <td>Male</td>\n",
       "      <td>11</td>\n",
       "      <td>57</td>\n",
       "      <td>25</td>\n",
       "      <td>4.7</td>\n",
       "      <td>Marketing</td>\n",
       "      <td>Analyst</td>\n",
       "      <td>2020-01-01</td>\n",
       "      <td>63596</td>\n",
       "      <td>2020-01-01</td>\n",
       "      <td>4.0</td>\n",
       "    </tr>\n",
       "    <tr>\n",
       "      <th>1</th>\n",
       "      <td>Anthony Roberson</td>\n",
       "      <td>59</td>\n",
       "      <td>Female</td>\n",
       "      <td>19</td>\n",
       "      <td>55</td>\n",
       "      <td>76</td>\n",
       "      <td>2.8</td>\n",
       "      <td>IT</td>\n",
       "      <td>Manager</td>\n",
       "      <td>1999-01-01</td>\n",
       "      <td>112540</td>\n",
       "      <td>1999-01-01</td>\n",
       "      <td>25.0</td>\n",
       "    </tr>\n",
       "    <tr>\n",
       "      <th>2</th>\n",
       "      <td>Thomas Miller</td>\n",
       "      <td>30</td>\n",
       "      <td>Male</td>\n",
       "      <td>8</td>\n",
       "      <td>87</td>\n",
       "      <td>10</td>\n",
       "      <td>2.4</td>\n",
       "      <td>IT</td>\n",
       "      <td>Analyst</td>\n",
       "      <td>2017-01-01</td>\n",
       "      <td>66292</td>\n",
       "      <td>2017-01-01</td>\n",
       "      <td>7.0</td>\n",
       "    </tr>\n",
       "    <tr>\n",
       "      <th>3</th>\n",
       "      <td>Joshua Lewis</td>\n",
       "      <td>26</td>\n",
       "      <td>Female</td>\n",
       "      <td>1</td>\n",
       "      <td>53</td>\n",
       "      <td>4</td>\n",
       "      <td>1.4</td>\n",
       "      <td>Marketing</td>\n",
       "      <td>Intern</td>\n",
       "      <td>2022-01-01</td>\n",
       "      <td>38303</td>\n",
       "      <td>2022-01-01</td>\n",
       "      <td>2.0</td>\n",
       "    </tr>\n",
       "    <tr>\n",
       "      <th>4</th>\n",
       "      <td>Stephanie Bailey</td>\n",
       "      <td>43</td>\n",
       "      <td>Male</td>\n",
       "      <td>14</td>\n",
       "      <td>3</td>\n",
       "      <td>9</td>\n",
       "      <td>4.5</td>\n",
       "      <td>IT</td>\n",
       "      <td>Team Lead</td>\n",
       "      <td>2005-01-01</td>\n",
       "      <td>101133</td>\n",
       "      <td>2005-01-01</td>\n",
       "      <td>19.0</td>\n",
       "    </tr>\n",
       "  </tbody>\n",
       "</table>\n",
       "</div>"
      ],
      "text/plain": [
       "               Name  Age  Gender  Projects Completed  Productivity (%)  \\\n",
       "0   Douglas Lindsey   25    Male                  11                57   \n",
       "1  Anthony Roberson   59  Female                  19                55   \n",
       "2     Thomas Miller   30    Male                   8                87   \n",
       "3      Joshua Lewis   26  Female                   1                53   \n",
       "4  Stephanie Bailey   43    Male                  14                 3   \n",
       "\n",
       "   Satisfaction Rate (%)  Feedback Score Department   Position Joining Date  \\\n",
       "0                     25             4.7  Marketing    Analyst   2020-01-01   \n",
       "1                     76             2.8         IT    Manager   1999-01-01   \n",
       "2                     10             2.4         IT    Analyst   2017-01-01   \n",
       "3                      4             1.4  Marketing     Intern   2022-01-01   \n",
       "4                      9             4.5         IT  Team Lead   2005-01-01   \n",
       "\n",
       "   Salary        Date   YOE  \n",
       "0   63596  2020-01-01   4.0  \n",
       "1  112540  1999-01-01  25.0  \n",
       "2   66292  2017-01-01   7.0  \n",
       "3   38303  2022-01-01   2.0  \n",
       "4  101133  2005-01-01  19.0  "
      ]
     },
     "execution_count": 33,
     "metadata": {},
     "output_type": "execute_result"
    }
   ],
   "source": [
    "df.head()"
   ]
  },
  {
   "cell_type": "code",
   "execution_count": 38,
   "id": "745de721",
   "metadata": {},
   "outputs": [
    {
     "data": {
      "text/plain": [
       "0.7890826231131435"
      ]
     },
     "execution_count": 38,
     "metadata": {},
     "output_type": "execute_result"
    }
   ],
   "source": [
    "\n",
    "correlation = df['YOE'].corr(df['Salary'])\n",
    "correlation"
   ]
  },
  {
   "cell_type": "markdown",
   "id": "bf24d060",
   "metadata": {},
   "source": [
    "Positively correlated"
   ]
  },
  {
   "cell_type": "code",
   "execution_count": 40,
   "id": "28873bb0",
   "metadata": {},
   "outputs": [
    {
     "data": {
      "text/plain": [
       "<AxesSubplot:>"
      ]
     },
     "execution_count": 40,
     "metadata": {},
     "output_type": "execute_result"
    },
    {
     "data": {
      "image/png": "[encoded data removed]",
      "text/plain": [
       "<Figure size 640x480 with 2 Axes>"
      ]
     },
     "metadata": {},
     "output_type": "display_data"
    }
   ],
   "source": [
    "sns.heatmap(df.corr())"
   ]
  },
  {
   "cell_type": "markdown",
   "id": "940aa559",
   "metadata": {},
   "source": [
    "# Calculate and visualize the average productivity score for each department."
   ]
  },
  {
   "cell_type": "code",
   "execution_count": 52,
   "id": "cb0429a4",
   "metadata": {},
   "outputs": [
    {
     "data": {
      "text/html": [
       "<div>\n",
       "<style scoped>\n",
       "    .dataframe tbody tr th:only-of-type {\n",
       "        vertical-align: middle;\n",
       "    }\n",
       "\n",
       "    .dataframe tbody tr th {\n",
       "        vertical-align: top;\n",
       "    }\n",
       "\n",
       "    .dataframe thead th {\n",
       "        text-align: right;\n",
       "    }\n",
       "</style>\n",
       "<table border=\"1\" class=\"dataframe\">\n",
       "  <thead>\n",
       "    <tr style=\"text-align: right;\">\n",
       "      <th></th>\n",
       "      <th>Department</th>\n",
       "      <th>Productivity (%)</th>\n",
       "    </tr>\n",
       "  </thead>\n",
       "  <tbody>\n",
       "    <tr>\n",
       "      <th>0</th>\n",
       "      <td>Finance</td>\n",
       "      <td>42.268293</td>\n",
       "    </tr>\n",
       "    <tr>\n",
       "      <th>1</th>\n",
       "      <td>HR</td>\n",
       "      <td>48.125000</td>\n",
       "    </tr>\n",
       "    <tr>\n",
       "      <th>2</th>\n",
       "      <td>IT</td>\n",
       "      <td>56.342105</td>\n",
       "    </tr>\n",
       "    <tr>\n",
       "      <th>3</th>\n",
       "      <td>Marketing</td>\n",
       "      <td>44.261905</td>\n",
       "    </tr>\n",
       "    <tr>\n",
       "      <th>4</th>\n",
       "      <td>Sales</td>\n",
       "      <td>44.212766</td>\n",
       "    </tr>\n",
       "  </tbody>\n",
       "</table>\n",
       "</div>"
      ],
      "text/plain": [
       "  Department  Productivity (%)\n",
       "0    Finance         42.268293\n",
       "1         HR         48.125000\n",
       "2         IT         56.342105\n",
       "3  Marketing         44.261905\n",
       "4      Sales         44.212766"
      ]
     },
     "execution_count": 52,
     "metadata": {},
     "output_type": "execute_result"
    }
   ],
   "source": [
    "average_productivity_score=df.groupby('Department')['Productivity (%)'].mean().reset_index()\n",
    "average_productivity_score"
   ]
  },
  {
   "cell_type": "code",
   "execution_count": 54,
   "id": "c622fb1b",
   "metadata": {},
   "outputs": [
    {
     "data": {
      "text/plain": [
       "<AxesSubplot:xlabel='Department', ylabel='Productivity (%)'>"
      ]
     },
     "execution_count": 54,
     "metadata": {},
     "output_type": "execute_result"
    },
    {
     "data": {
      "image/png": "[encoded data removed]",
      "text/plain": [
       "<Figure size 640x480 with 1 Axes>"
      ]
     },
     "metadata": {},
     "output_type": "display_data"
    }
   ],
   "source": [
    "sns.barplot(average_productivity_score['Department'],average_productivity_score[\"Productivity (%)\"])"
   ]
  },
  {
   "cell_type": "markdown",
   "id": "354fafab",
   "metadata": {},
   "source": [
    "# Is there any relationship between productivity and satisfaction scores? Scatterplot.\n"
   ]
  },
  {
   "cell_type": "code",
   "execution_count": 59,
   "id": "3d02e036",
   "metadata": {},
   "outputs": [
    {
     "data": {
      "text/plain": [
       "Text(0, 0.5, 'Satisfaction Rate (%)')"
      ]
     },
     "execution_count": 59,
     "metadata": {},
     "output_type": "execute_result"
    },
    {
     "data": {
      "image/png": "[encoded data removed]",
      "text/plain": [
       "<Figure size 640x480 with 1 Axes>"
      ]
     },
     "metadata": {},
     "output_type": "display_data"
    }
   ],
   "source": [
    "plt.scatter(df['Productivity (%)'],df['Satisfaction Rate (%)'],alpha=0.5)\n",
    "plt.xlabel('Productivity (%)')\n",
    "plt.ylabel('Satisfaction Rate (%)')"
   ]
  },
  {
   "cell_type": "markdown",
   "id": "f1201d2f",
   "metadata": {},
   "source": [
    "No relationship can be seen"
   ]
  },
  {
   "cell_type": "code",
   "execution_count": 60,
   "id": "5c3d9b0a",
   "metadata": {},
   "outputs": [
    {
     "data": {
      "text/plain": [
       "0.049897119597188205"
      ]
     },
     "execution_count": 60,
     "metadata": {},
     "output_type": "execute_result"
    }
   ],
   "source": [
    "df['Productivity (%)'].corr(df['Satisfaction Rate (%)'])"
   ]
  },
  {
   "cell_type": "markdown",
   "id": "532d8c44",
   "metadata": {},
   "source": [
    "quite close to 0 so no correlation"
   ]
  },
  {
   "cell_type": "markdown",
   "id": "eb9dd458",
   "metadata": {},
   "source": [
    "# Compare the average productivity scores of employees working different hours per week.\n"
   ]
  },
  {
   "cell_type": "code",
   "execution_count": 75,
   "id": "b0969810",
   "metadata": {},
   "outputs": [
    {
     "data": {
      "text/html": [
       "<div>\n",
       "<style scoped>\n",
       "    .dataframe tbody tr th:only-of-type {\n",
       "        vertical-align: middle;\n",
       "    }\n",
       "\n",
       "    .dataframe tbody tr th {\n",
       "        vertical-align: top;\n",
       "    }\n",
       "\n",
       "    .dataframe thead th {\n",
       "        text-align: right;\n",
       "    }\n",
       "</style>\n",
       "<table border=\"1\" class=\"dataframe\">\n",
       "  <thead>\n",
       "    <tr style=\"text-align: right;\">\n",
       "      <th></th>\n",
       "      <th>Name</th>\n",
       "      <th>Age</th>\n",
       "      <th>Gender</th>\n",
       "      <th>Projects Completed</th>\n",
       "      <th>Productivity (%)</th>\n",
       "      <th>Satisfaction Rate (%)</th>\n",
       "      <th>Feedback Score</th>\n",
       "      <th>Department</th>\n",
       "      <th>Position</th>\n",
       "      <th>Joining Date</th>\n",
       "      <th>Salary</th>\n",
       "      <th>Date</th>\n",
       "      <th>YOE</th>\n",
       "      <th>week</th>\n",
       "    </tr>\n",
       "  </thead>\n",
       "  <tbody>\n",
       "    <tr>\n",
       "      <th>0</th>\n",
       "      <td>Douglas Lindsey</td>\n",
       "      <td>25</td>\n",
       "      <td>Male</td>\n",
       "      <td>11</td>\n",
       "      <td>57</td>\n",
       "      <td>25</td>\n",
       "      <td>4.7</td>\n",
       "      <td>Marketing</td>\n",
       "      <td>Analyst</td>\n",
       "      <td>2020-01-01</td>\n",
       "      <td>63596</td>\n",
       "      <td>2020-01-01</td>\n",
       "      <td>4.0</td>\n",
       "      <td>1</td>\n",
       "    </tr>\n",
       "    <tr>\n",
       "      <th>1</th>\n",
       "      <td>Anthony Roberson</td>\n",
       "      <td>59</td>\n",
       "      <td>Female</td>\n",
       "      <td>19</td>\n",
       "      <td>55</td>\n",
       "      <td>76</td>\n",
       "      <td>2.8</td>\n",
       "      <td>IT</td>\n",
       "      <td>Manager</td>\n",
       "      <td>1999-01-01</td>\n",
       "      <td>112540</td>\n",
       "      <td>1999-01-01</td>\n",
       "      <td>25.0</td>\n",
       "      <td>53</td>\n",
       "    </tr>\n",
       "    <tr>\n",
       "      <th>2</th>\n",
       "      <td>Thomas Miller</td>\n",
       "      <td>30</td>\n",
       "      <td>Male</td>\n",
       "      <td>8</td>\n",
       "      <td>87</td>\n",
       "      <td>10</td>\n",
       "      <td>2.4</td>\n",
       "      <td>IT</td>\n",
       "      <td>Analyst</td>\n",
       "      <td>2017-01-01</td>\n",
       "      <td>66292</td>\n",
       "      <td>2017-01-01</td>\n",
       "      <td>7.0</td>\n",
       "      <td>52</td>\n",
       "    </tr>\n",
       "    <tr>\n",
       "      <th>3</th>\n",
       "      <td>Joshua Lewis</td>\n",
       "      <td>26</td>\n",
       "      <td>Female</td>\n",
       "      <td>1</td>\n",
       "      <td>53</td>\n",
       "      <td>4</td>\n",
       "      <td>1.4</td>\n",
       "      <td>Marketing</td>\n",
       "      <td>Intern</td>\n",
       "      <td>2022-01-01</td>\n",
       "      <td>38303</td>\n",
       "      <td>2022-01-01</td>\n",
       "      <td>2.0</td>\n",
       "      <td>52</td>\n",
       "    </tr>\n",
       "    <tr>\n",
       "      <th>4</th>\n",
       "      <td>Stephanie Bailey</td>\n",
       "      <td>43</td>\n",
       "      <td>Male</td>\n",
       "      <td>14</td>\n",
       "      <td>3</td>\n",
       "      <td>9</td>\n",
       "      <td>4.5</td>\n",
       "      <td>IT</td>\n",
       "      <td>Team Lead</td>\n",
       "      <td>2005-01-01</td>\n",
       "      <td>101133</td>\n",
       "      <td>2005-01-01</td>\n",
       "      <td>19.0</td>\n",
       "      <td>53</td>\n",
       "    </tr>\n",
       "  </tbody>\n",
       "</table>\n",
       "</div>"
      ],
      "text/plain": [
       "               Name  Age  Gender  Projects Completed  Productivity (%)  \\\n",
       "0   Douglas Lindsey   25    Male                  11                57   \n",
       "1  Anthony Roberson   59  Female                  19                55   \n",
       "2     Thomas Miller   30    Male                   8                87   \n",
       "3      Joshua Lewis   26  Female                   1                53   \n",
       "4  Stephanie Bailey   43    Male                  14                 3   \n",
       "\n",
       "   Satisfaction Rate (%)  Feedback Score Department   Position Joining Date  \\\n",
       "0                     25             4.7  Marketing    Analyst   2020-01-01   \n",
       "1                     76             2.8         IT    Manager   1999-01-01   \n",
       "2                     10             2.4         IT    Analyst   2017-01-01   \n",
       "3                      4             1.4  Marketing     Intern   2022-01-01   \n",
       "4                      9             4.5         IT  Team Lead   2005-01-01   \n",
       "\n",
       "   Salary        Date   YOE  week  \n",
       "0   63596  2020-01-01   4.0     1  \n",
       "1  112540  1999-01-01  25.0    53  \n",
       "2   66292  2017-01-01   7.0    52  \n",
       "3   38303  2022-01-01   2.0    52  \n",
       "4  101133  2005-01-01  19.0    53  "
      ]
     },
     "execution_count": 75,
     "metadata": {},
     "output_type": "execute_result"
    }
   ],
   "source": [
    "df['week']=df['Joining Date'].dt.isocalendar().week\n",
    "df.drop('Hours',axis=1,inplace=True)\n",
    "df.head()"
   ]
  },
  {
   "cell_type": "markdown",
   "id": "74fb4701",
   "metadata": {},
   "source": [
    "since there is no data given for no. of hours worked we arn't able to find it out"
   ]
  },
  {
   "cell_type": "markdown",
   "id": "46b7fab5",
   "metadata": {},
   "source": [
    "# Explore the distribution of satisfaction scores. Is it skewed towards higher scores?\n"
   ]
  },
  {
   "cell_type": "code",
   "execution_count": 76,
   "id": "96dcc290",
   "metadata": {},
   "outputs": [
    {
     "data": {
      "text/plain": [
       "<AxesSubplot:xlabel='Satisfaction Rate (%)', ylabel='Density'>"
      ]
     },
     "execution_count": 76,
     "metadata": {},
     "output_type": "execute_result"
    },
    {
     "data": {
      "image/png": "[encoded data removed]",
      "text/plain": [
       "<Figure size 640x480 with 1 Axes>"
      ]
     },
     "metadata": {},
     "output_type": "display_data"
    }
   ],
   "source": [
    "sns.kdeplot(df['Satisfaction Rate (%)'])"
   ]
  },
  {
   "cell_type": "code",
   "execution_count": 81,
   "id": "b0b24bb9",
   "metadata": {},
   "outputs": [
    {
     "data": {
      "image/png": "[encoded data removed]",
      "text/plain": [
       "<Figure size 640x480 with 1 Axes>"
      ]
     },
     "metadata": {},
     "output_type": "display_data"
    }
   ],
   "source": [
    "plt.hist(df['Satisfaction Rate (%)'],bins=10,color='skyblue', edgecolor='black')\n",
    "plt.title('Distribution of Satisfaction Scores')\n",
    "plt.xlabel('Satisfaction Rate (%)')\n",
    "plt.ylabel('Frequency')\n",
    "plt.show()"
   ]
  },
  {
   "cell_type": "markdown",
   "id": "dae15b24",
   "metadata": {},
   "source": [
    "it is not skewed towards higher scores"
   ]
  },
  {
   "cell_type": "markdown",
   "id": "694d409c",
   "metadata": {},
   "source": [
    "# Calculate the average salary for each age group (e.g., 20-30, 30-40, etc.)"
   ]
  },
  {
   "cell_type": "code",
   "execution_count": 84,
   "id": "e1108594",
   "metadata": {},
   "outputs": [],
   "source": [
    "age_bins=[20,30,40,50,60]\n",
    "age_labels=['20-30','30-40','40-50','50-60']\n",
    "df['Age_group']=pd.cut(df['Age'],bins=age_bins,labels=age_labels,right=False) #right=False means the right endpoint of each interval is not included in the bin."
   ]
  },
  {
   "cell_type": "code",
   "execution_count": 86,
   "id": "f0c09baf",
   "metadata": {},
   "outputs": [
    {
     "data": {
      "text/html": [
       "<div>\n",
       "<style scoped>\n",
       "    .dataframe tbody tr th:only-of-type {\n",
       "        vertical-align: middle;\n",
       "    }\n",
       "\n",
       "    .dataframe tbody tr th {\n",
       "        vertical-align: top;\n",
       "    }\n",
       "\n",
       "    .dataframe thead th {\n",
       "        text-align: right;\n",
       "    }\n",
       "</style>\n",
       "<table border=\"1\" class=\"dataframe\">\n",
       "  <thead>\n",
       "    <tr style=\"text-align: right;\">\n",
       "      <th></th>\n",
       "      <th>Age_group</th>\n",
       "      <th>Salary</th>\n",
       "    </tr>\n",
       "  </thead>\n",
       "  <tbody>\n",
       "    <tr>\n",
       "      <th>0</th>\n",
       "      <td>20-30</td>\n",
       "      <td>51342.469880</td>\n",
       "    </tr>\n",
       "    <tr>\n",
       "      <th>1</th>\n",
       "      <td>30-40</td>\n",
       "      <td>84930.178571</td>\n",
       "    </tr>\n",
       "    <tr>\n",
       "      <th>2</th>\n",
       "      <td>40-50</td>\n",
       "      <td>99789.560976</td>\n",
       "    </tr>\n",
       "    <tr>\n",
       "      <th>3</th>\n",
       "      <td>50-60</td>\n",
       "      <td>110469.631579</td>\n",
       "    </tr>\n",
       "  </tbody>\n",
       "</table>\n",
       "</div>"
      ],
      "text/plain": [
       "  Age_group         Salary\n",
       "0     20-30   51342.469880\n",
       "1     30-40   84930.178571\n",
       "2     40-50   99789.560976\n",
       "3     50-60  110469.631579"
      ]
     },
     "execution_count": 86,
     "metadata": {},
     "output_type": "execute_result"
    }
   ],
   "source": [
    "Avg_salary_by_age=df.groupby('Age_group')['Salary'].mean().reset_index()\n",
    "Avg_salary_by_age"
   ]
  },
  {
   "cell_type": "markdown",
   "id": "b3a9ad63",
   "metadata": {},
   "source": [
    "# Are there any outliers in the dataset? Identify and handle them if necessary.\n"
   ]
  },
  {
   "cell_type": "code",
   "execution_count": 100,
   "id": "a4b28560",
   "metadata": {},
   "outputs": [
    {
     "name": "stderr",
     "output_type": "stream",
     "text": [
      "C:\\ProgramData\\Anaconda3\\lib\\site-packages\\seaborn\\_decorators.py:36: FutureWarning: Pass the following variables as keyword args: x, y. From version 0.12, the only valid positional argument will be `data`, and passing other arguments without an explicit keyword will result in an error or misinterpretation.\n",
      "  warnings.warn(\n"
     ]
    },
    {
     "data": {
      "text/plain": [
       "<AxesSubplot:xlabel='Productivity (%)', ylabel='Age'>"
      ]
     },
     "execution_count": 100,
     "metadata": {},
     "output_type": "execute_result"
    },
    {
     "data": {
      "image/png": "[encoded data removed]",
      "text/plain": [
       "<Figure size 640x480 with 1 Axes>"
      ]
     },
     "metadata": {},
     "output_type": "display_data"
    }
   ],
   "source": [
    "sns.boxplot(df['Productivity (%)'],df['Age'])"
   ]
  },
  {
   "cell_type": "code",
   "execution_count": 104,
   "id": "ca23d2ef",
   "metadata": {},
   "outputs": [
    {
     "name": "stderr",
     "output_type": "stream",
     "text": [
      "C:\\ProgramData\\Anaconda3\\lib\\site-packages\\seaborn\\_decorators.py:36: FutureWarning: Pass the following variables as keyword args: x, y. From version 0.12, the only valid positional argument will be `data`, and passing other arguments without an explicit keyword will result in an error or misinterpretation.\n",
      "  warnings.warn(\n"
     ]
    },
    {
     "data": {
      "text/plain": [
       "<AxesSubplot:xlabel='Projects Completed', ylabel='Age'>"
      ]
     },
     "execution_count": 104,
     "metadata": {},
     "output_type": "execute_result"
    },
    {
     "data": {
      "image/png": "[encoded data removed]",
      "text/plain": [
       "<Figure size 640x480 with 1 Axes>"
      ]
     },
     "metadata": {},
     "output_type": "display_data"
    }
   ],
   "source": [
    "sns.boxplot(df['Projects Completed'],df['Age'])"
   ]
  },
  {
   "cell_type": "code",
   "execution_count": 98,
   "id": "5b81f8e8",
   "metadata": {},
   "outputs": [
    {
     "name": "stderr",
     "output_type": "stream",
     "text": [
      "C:\\ProgramData\\Anaconda3\\lib\\site-packages\\seaborn\\_decorators.py:36: FutureWarning: Pass the following variables as keyword args: x, y. From version 0.12, the only valid positional argument will be `data`, and passing other arguments without an explicit keyword will result in an error or misinterpretation.\n",
      "  warnings.warn(\n"
     ]
    },
    {
     "data": {
      "text/plain": [
       "<AxesSubplot:xlabel='Age', ylabel='Department'>"
      ]
     },
     "execution_count": 98,
     "metadata": {},
     "output_type": "execute_result"
    },
    {
     "data": {
      "image/png": "[encoded data removed]",
      "text/plain": [
       "<Figure size 640x480 with 1 Axes>"
      ]
     },
     "metadata": {},
     "output_type": "display_data"
    }
   ],
   "source": [
    "sns.boxplot(df['Age'],df['Department'])"
   ]
  },
  {
   "cell_type": "code",
   "execution_count": 108,
   "id": "36e89b82",
   "metadata": {},
   "outputs": [
    {
     "name": "stderr",
     "output_type": "stream",
     "text": [
      "C:\\ProgramData\\Anaconda3\\lib\\site-packages\\seaborn\\_decorators.py:36: FutureWarning: Pass the following variables as keyword args: x, y. From version 0.12, the only valid positional argument will be `data`, and passing other arguments without an explicit keyword will result in an error or misinterpretation.\n",
      "  warnings.warn(\n"
     ]
    },
    {
     "data": {
      "text/plain": [
       "<AxesSubplot:xlabel='Feedback Score', ylabel='Age'>"
      ]
     },
     "execution_count": 108,
     "metadata": {},
     "output_type": "execute_result"
    },
    {
     "data": {
      "image/png": "[encoded data removed]",
      "text/plain": [
       "<Figure size 640x480 with 1 Axes>"
      ]
     },
     "metadata": {},
     "output_type": "display_data"
    }
   ],
   "source": [
    "sns.boxplot(df['Feedback Score'],df['Age'])"
   ]
  }
 ],
 "metadata": {
  "kernelspec": {
   "display_name": "Python 3 (ipykernel)",
   "language": "python",
   "name": "python3"
  },
  "language_info": {
   "codemirror_mode": {
    "name": "ipython",
    "version": 3
   },
   "file_extension": ".py",
   "mimetype": "text/x-python",
   "name": "python",
   "nbconvert_exporter": "python",
   "pygments_lexer": "ipython3",
   "version": "3.9.13"
  }
 },
 "nbformat": 4,
 "nbformat_minor": 5
}
